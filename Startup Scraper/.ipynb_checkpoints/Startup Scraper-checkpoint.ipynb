{
 "cells": [
  {
   "cell_type": "code",
   "execution_count": 1,
   "metadata": {},
   "outputs": [],
   "source": [
    "from selenium import webdriver\n",
    "import time"
   ]
  },
  {
   "cell_type": "code",
   "execution_count": 5,
   "metadata": {},
   "outputs": [],
   "source": [
    "path = '../Web Scraper or Bot in Python using Selenium/chromedriver'\n",
    "# create nstance of webdriver\n",
    "driver = webdriver.Chrome(path)\n",
    "# google url\n",
    "url = 'https://www.ycombinator.com/companies/?batch=S18&status=Active'\n",
    "# Code to open a specific url\n",
    "driver.get(url)"
   ]
  },
  {
   "cell_type": "code",
   "execution_count": 6,
   "metadata": {},
   "outputs": [],
   "source": [
    "#login into your rocketreach here and add the person before I have not added the button click\n",
    "#navigating to ycombinator profile\n",
    "time.sleep(3)\n",
    "searchResults = driver.find_element_by_class_name(\"SharedDirectory-module__rightCol___10K0h\");\n",
    "divs = searchResults.find_elements_by_css_selector('div')\n",
    "elements = divs[4].find_elements_by_css_selector('a')\n",
    "elements[0].click()\n",
    "driver.switch_to.window(driver.window_handles[1])"
   ]
  },
  {
   "cell_type": "code",
   "execution_count": 7,
   "metadata": {},
   "outputs": [],
   "source": [
    "from selenium import webdriver\n",
    "from selenium.webdriver.common.by import By\n",
    "from selenium.webdriver.support.ui import WebDriverWait\n",
    "from selenium.webdriver.support import expected_conditions as EC\n",
    "\n",
    "\n",
    "def scrape():\n",
    "    \n",
    "    #scraping to ycombinator profile\n",
    "    Info = []\n",
    "    \n",
    "    driver.switch_to.window(driver.window_handles[1])\n",
    "    \n",
    "    searchResults = driver.find_element_by_class_name(\"main-box\");\n",
    "    company_name = searchResults.find_element_by_class_name(\"heavy\").text;\n",
    "    \n",
    "    links = searchResults.find_element_by_class_name(\"links\")\n",
    "    element = links.find_element_by_css_selector('a')\n",
    "    company_link = element.get_attribute('href');\n",
    "    \n",
    "    founders = driver.find_element_by_class_name(\"content\").find_elements_by_css_selector('section')[1].find_elements_by_css_selector('div')\n",
    "    founder_name = founders[0].find_elements_by_css_selector('div')[1].find_element_by_class_name(\"heavy\").text\n",
    "    \n",
    "    linkedin = founders[0].find_elements_by_css_selector('div')[1].find_element_by_class_name(\"social-links\").find_element_by_css_selector('a').get_attribute('href')\n",
    "    \n",
    "    #scraping rocketreach (I have already logged in before this step we have to add login and password here)\n",
    "    driver.execute_script(\"window.open('');\")\n",
    "    driver.switch_to.window(driver.window_handles[2])\n",
    "    url=\"https://rocketreach.co/person\"\n",
    "    driver.get(url)\n",
    "    searchResults = driver.find_element_by_class_name(\"search-page-keywords-list\");\n",
    "    time.sleep(3)\n",
    "    inputter = searchResults.find_element_by_css_selector('input')\n",
    "    keyword = founder_name\n",
    "    inputter.send_keys(keyword)\n",
    "    inputter.send_keys('\\n')\n",
    "    time.sleep(5)\n",
    "    # we have to add button click add person to show information if not added \n",
    "    searchResults = driver.find_element_by_class_name(\"search-results-list\").find_elements_by_css_selector('li');\n",
    "    email = driver.find_element(By.XPATH, '/html/body/div[1]/div[3]/div[1]/div[2]/div[2]/div/div[2]/rr-unified-search-results/div/div[3]/div/ul[1]/li[1]/rr-profile-directive/div/div[6]/div[1]/div/ul/li[1]/rr-contact-entry/span/a/span[1]').text\n",
    "    \n",
    "    Info.append({\n",
    "        'company_name' : company_name, 'company_link' : company_link, 'founder_name': founder_name, 'linkedin': linkedin, 'email': email\n",
    "    })\n",
    "    \n",
    "    \n",
    "    return Info\n",
    "\n",
    "    \n",
    "Info = scrape();"
   ]
  },
  {
   "cell_type": "code",
   "execution_count": 8,
   "metadata": {},
   "outputs": [],
   "source": [
    "import pandas as pd\n",
    "df = pd.DataFrame(Info)\n",
    "fileName = 'startup.csv'\n",
    "df.to_csv(fileName)"
   ]
  },
  {
   "cell_type": "code",
   "execution_count": null,
   "metadata": {},
   "outputs": [],
   "source": []
  }
 ],
 "metadata": {
  "kernelspec": {
   "display_name": "Python 3",
   "language": "python",
   "name": "python3"
  },
  "language_info": {
   "codemirror_mode": {
    "name": "ipython",
    "version": 3
   },
   "file_extension": ".py",
   "mimetype": "text/x-python",
   "name": "python",
   "nbconvert_exporter": "python",
   "pygments_lexer": "ipython3",
   "version": "3.8.5"
  }
 },
 "nbformat": 4,
 "nbformat_minor": 4
}
